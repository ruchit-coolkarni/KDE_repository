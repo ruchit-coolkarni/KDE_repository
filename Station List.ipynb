{
 "cells": [
  {
   "cell_type": "code",
   "execution_count": 23,
   "id": "f0750c35",
   "metadata": {},
   "outputs": [],
   "source": [
    "import pandas as pd\n",
    "import os\n",
    "\n"
   ]
  },
  {
   "cell_type": "code",
   "execution_count": 27,
   "id": "0b35bbb9",
   "metadata": {},
   "outputs": [
    {
     "name": "stdout",
     "output_type": "stream",
     "text": [
      "       Site                                      Name      Lat       Lon  Sta  \\\n",
      "0     66046                                PARRAMATTA -33.8167  151.0000  Jan   \n",
      "1     74147                             COLOMBO CREEK -35.2000  146.0000  Sep   \n",
      "2     60026                  PORT MACQUARIE (HILL ST) -31.4399  152.9110  Jan   \n",
      "3     67058                       DURAL PUBLIC SCHOOL -33.7333  151.0833  Jul   \n",
      "4     66095                     SYDNEY (HORNBY LIGHT) -33.8333  151.2833  Jan   \n",
      "...     ...                                       ...      ...       ...  ...   \n",
      "5072  48255                   LIGHTNING RIDGE AIRPORT -29.4524  147.9796  Jul   \n",
      "5073  75178  MERRIWAGGA (OLD SCHOOL CARAVAN PARK) COM -33.8138  145.6278  Jul   \n",
      "5074  51165               QUAMBONE STATION COMPARISON -30.9260  147.8699  Jul   \n",
      "5075  48256        WEILMORINGLE (CARINGLE) COMPARISON -29.3515  146.8125  Jul   \n",
      "5076  70201                              GOOGONG HILL -35.4836  149.2356  Feb   \n",
      "\n",
      "        rt  End  Unnamed: 7  Years   % AWS  \n",
      "0     1832  Dec        1960   66.6  52   N  \n",
      "1     1835  Mar        1941   42.6  40   N  \n",
      "2     1841  Jul        2010  142.6  84   N  \n",
      "3     1842  Jan        1918   32.3  43   N  \n",
      "4     1843  Dec        1918   14.2  18   N  \n",
      "...    ...  ...         ...    ...  ..  ..  \n",
      "5072  2023  Apr        2024    0.8  89   N  \n",
      "5073  2023  Apr        2024    0.8  89   N  \n",
      "5074  2023  Apr        2024    0.8  89   N  \n",
      "5075  2023  Apr        2024    0.8  89   N  \n",
      "5076  2024  Apr        2024    0.3  63   N  \n",
      "\n",
      "[5077 rows x 11 columns]\n",
      "       Site                      Name      Lat       Lon  Sta    rt  End  \\\n",
      "0     66046                PARRAMATTA -33.8167  151.0000  Jan  1832  Dec   \n",
      "1     74147             COLOMBO CREEK -35.2000  146.0000  Sep  1835  Mar   \n",
      "2     60026  PORT MACQUARIE (HILL ST) -31.4399  152.9110  Jan  1841  Jul   \n",
      "3     67058       DURAL PUBLIC SCHOOL -33.7333  151.0833  Jul  1842  Jan   \n",
      "4     66095     SYDNEY (HORNBY LIGHT) -33.8333  151.2833  Jan  1843  Dec   \n",
      "...     ...                       ...      ...       ...  ...   ...  ...   \n",
      "1406  70183      WINDELLIMA (BUDJONG) -35.0667  149.8833  Apr  1899  Nov   \n",
      "1407  51008           WYANGA (QUAMBI) -32.4577  148.1491  Feb  1899  Feb   \n",
      "1408  61082      WYEE (WYEE FARMS RD) -33.1793  151.4410  Mar  1899  May   \n",
      "1409  75133                    WYVERN -34.5500  145.7667  Aug  1899  Dec   \n",
      "1410  56149              YARROW CREEK -29.8000  152.0000  Jan  1899  Sep   \n",
      "\n",
      "      Unnamed: 7  Years   % AWS  \n",
      "0           1960   66.6  52   N  \n",
      "1           1941   42.6  40   N  \n",
      "2           2010  142.6  84   N  \n",
      "3           1918   32.3  43   N  \n",
      "4           1918   14.2  18   N  \n",
      "...          ...    ...  ..  ..  \n",
      "1406        1938   39.0  98   N  \n",
      "1407        2024  123.8  99   N  \n",
      "1408        2017  118.2  99   N  \n",
      "1409        1918   19.0  98   N  \n",
      "1410        1939   38.6  95   N  \n",
      "\n",
      "[1411 rows x 11 columns]\n"
     ]
    }
   ],
   "source": [
    "# Specify the directory containing your Excel file\n",
    "directory = r'C:\\Users\\manda\\Documents\\Master thesis Data\\NSW-Station-list'\n",
    "\n",
    "# Specify the filename\n",
    "filename = r'C:\\Users\\manda\\Documents\\Master thesis Data\\NSW-Station-list.xlsx'  # Replace 'your_excel_file.xlsx' with the actual filename\n",
    "\n",
    "# Construct the full file path\n",
    "excel_file_path = os.path.join(directory, filename)\n",
    "\n",
    "# Check if the file exists\n",
    "if os.path.exists(excel_file_path):\n",
    "    # Read the Excel file\n",
    "    df = pd.read_excel(excel_file_path)\n",
    "    # Display the contents of the Excel file\n",
    "    print(df)\n",
    "else:\n",
    "    print(f\"File '{filename}' not found in directory '{directory}'.\")\n",
    "    \n",
    "# Read the second sheet from the Excel file\n",
    "second_sheet_df = pd.read_excel(excel_file_path, sheet_name='Stations from 1800-1900')\n",
    "\n",
    "# Display the contents of the second sheet\n",
    "print(second_sheet_df)"
   ]
  },
  {
   "cell_type": "code",
   "execution_count": 28,
   "id": "6529b87d",
   "metadata": {},
   "outputs": [
    {
     "name": "stdout",
     "output_type": "stream",
     "text": [
      "       Site                  Name      Lat       Lon  Sta    rt  End  \\\n",
      "1     74147         COLOMBO CREEK -35.2000  146.0000  Sep  1835  Mar   \n",
      "7     70037              GOULBURN -34.7500  149.8667  Oct  1857  Apr   \n",
      "8     72001                ALBURY -36.1000  146.9000  Feb  1858  Jul   \n",
      "9     63004         BATHURST GAOL -33.4167  149.5500  Feb  1858  May   \n",
      "11    70023   COOMA LAMBIE STREET -36.2333  149.1167  Feb  1858  Apr   \n",
      "...     ...                   ...      ...       ...  ...   ...  ...   \n",
      "1403  75088  WAVERLEY (MOUNT IDA) -34.2167  145.7667  Jan  1899  Dec   \n",
      "1405  62064          WILBERTREE 1 -32.5500  149.5833  Nov  1899  Mar   \n",
      "1406  70183  WINDELLIMA (BUDJONG) -35.0667  149.8833  Apr  1899  Nov   \n",
      "1407  51008       WYANGA (QUAMBI) -32.4577  148.1491  Feb  1899  Feb   \n",
      "1409  75133                WYVERN -34.5500  145.7667  Aug  1899  Dec   \n",
      "\n",
      "      Unnamed: 7  Years   % AWS  \n",
      "1           1941   42.6  40   N  \n",
      "7           1967  103.3  94   N  \n",
      "8           1962   96.6  92   N  \n",
      "9           1983  121.4  97   N  \n",
      "11          1994  117.0  86   N  \n",
      "...          ...    ...  ..  ..  \n",
      "1403        1926   22.8  81   N  \n",
      "1405        1912   11.8  95   N  \n",
      "1406        1938   39.0  98   N  \n",
      "1407        2024  123.8  99   N  \n",
      "1409        1918   19.0  98   N  \n",
      "\n",
      "[1033 rows x 11 columns]\n"
     ]
    }
   ],
   "source": [
    "# Define the longitude range of the Great Dividing Range (GDR)\n",
    "gdr_longitude_range = (146.85, 149.9833)  # From 146° 51' E to 149° 59' E\n",
    "\n",
    "# Filter the DataFrame to include only the stations within or west of the GDR\n",
    "stations_in_or_west_of_gdr = second_sheet_df[second_sheet_df['Lon'].astype(float) <= gdr_longitude_range[1]]\n",
    "\n",
    "# Display the list of stations within or west of the GDR\n",
    "print(stations_in_or_west_of_gdr)\n",
    "\n"
   ]
  },
  {
   "cell_type": "code",
   "execution_count": 29,
   "id": "dbf05bae",
   "metadata": {},
   "outputs": [],
   "source": [
    "\n",
    "# Define the name of the new sheet\n",
    "new_sheet_name = 'Stations_West_of_GDR'\n",
    "\n",
    "# Save the filtered DataFrame to a new sheet in the Excel file\n",
    "stations_in_or_west_of_gdr.to_excel(filename, sheet_name=new_sheet_name, index=False)\n"
   ]
  },
  {
   "cell_type": "code",
   "execution_count": 31,
   "id": "38ad95ff",
   "metadata": {},
   "outputs": [
    {
     "name": "stdout",
     "output_type": "stream",
     "text": [
      "     Site                                     Name      Lat       Lon  Sta  \\\n",
      "0   63004                            BATHURST GAOL -33.4167  149.5500  Jan   \n",
      "1   74128  DENILIQUIN (VISITOR INFORMATION CENTRE) -35.5283  144.9651  Feb   \n",
      "2   66062                SYDNEY (OBSERVATORY HILL) -33.8607  151.2050  Jan   \n",
      "3   48013                       BOURKE POST OFFICE -30.0917  145.9358  Apr   \n",
      "4   72151                  WAGGA WAGGA (KOORINGAL) -35.1333  147.3667  Nov   \n",
      "5   65016                     FORBES (CAMP STREET) -33.3892  148.0081  Apr   \n",
      "6   56017                      INVERELL COMPARISON -29.7783  151.1114  Feb   \n",
      "7   55023                            GUNNEDAH POOL -30.9841  150.2540  Dec   \n",
      "8   52026                    WALGETT COUNCIL DEPOT -30.0236  148.1218  Aug   \n",
      "9   46043                      WILCANNIA (REID ST) -31.5631  143.3747  Oct   \n",
      "10  48030                        COBAR POST OFFICE -31.5000  145.8000  Feb   \n",
      "\n",
      "      rt  End  Unnamed: 7  Years    % AWS  \n",
      "0   1858  May        1983  118.1   89   N  \n",
      "1   1858  Jun        2003  141.5   93   N  \n",
      "2   1859  Aug        2020  161.7  100   Y  \n",
      "3   1871  Aug        1996  124.3   98   N  \n",
      "4   1871  Dec        1950   77.7   93   N  \n",
      "5   1873  May        1998  122.1   96   N  \n",
      "6   1874  Nov        1997  122.6   98   N  \n",
      "7   1876  Dec        2011  128.8   87   N  \n",
      "8   1878  Jun        1993  113.7   97   N  \n",
      "9   1879  Jan        2015  130.5   95   N  \n",
      "10  1881  Dec        1965   78.2   91   N  \n"
     ]
    }
   ],
   "source": [
    "# Read the second sheet from the Excel file\n",
    "third_sheet_df = pd.read_excel(excel_file_path, sheet_name='Maximum temperature')\n",
    "\n",
    "# Display the contents of the second sheet\n",
    "print(third_sheet_df)"
   ]
  },
  {
   "cell_type": "code",
   "execution_count": 32,
   "id": "c1e77bf4",
   "metadata": {},
   "outputs": [
    {
     "name": "stdout",
     "output_type": "stream",
     "text": [
      "     Site                                     Name      Lat       Lon  Sta  \\\n",
      "0   63004                            BATHURST GAOL -33.4167  149.5500  Jan   \n",
      "1   74128  DENILIQUIN (VISITOR INFORMATION CENTRE) -35.5283  144.9651  Feb   \n",
      "3   48013                       BOURKE POST OFFICE -30.0917  145.9358  Apr   \n",
      "4   72151                  WAGGA WAGGA (KOORINGAL) -35.1333  147.3667  Nov   \n",
      "5   65016                     FORBES (CAMP STREET) -33.3892  148.0081  Apr   \n",
      "8   52026                    WALGETT COUNCIL DEPOT -30.0236  148.1218  Aug   \n",
      "9   46043                      WILCANNIA (REID ST) -31.5631  143.3747  Oct   \n",
      "10  48030                        COBAR POST OFFICE -31.5000  145.8000  Feb   \n",
      "\n",
      "      rt  End  Unnamed: 7  Years   % AWS  \n",
      "0   1858  May        1983  118.1  89   N  \n",
      "1   1858  Jun        2003  141.5  93   N  \n",
      "3   1871  Aug        1996  124.3  98   N  \n",
      "4   1871  Dec        1950   77.7  93   N  \n",
      "5   1873  May        1998  122.1  96   N  \n",
      "8   1878  Jun        1993  113.7  97   N  \n",
      "9   1879  Jan        2015  130.5  95   N  \n",
      "10  1881  Dec        1965   78.2  91   N  \n"
     ]
    }
   ],
   "source": [
    "# Define the longitude range of the Great Dividing Range (GDR)\n",
    "gdr_longitude_range = (146.85, 149.9833)  # From 146° 51' E to 149° 59' E\n",
    "\n",
    "# Filter the DataFrame to include only the stations within or west of the GDR\n",
    "stations_in_or_west_of_gdr = third_sheet_df[third_sheet_df['Lon'].astype(float) <= gdr_longitude_range[1]]\n",
    "\n",
    "# Display the list of stations within or west of the GDR\n",
    "print(stations_in_or_west_of_gdr)\n"
   ]
  },
  {
   "cell_type": "code",
   "execution_count": 34,
   "id": "8eeec2cb",
   "metadata": {},
   "outputs": [
    {
     "name": "stdout",
     "output_type": "stream",
     "text": [
      "     Site                                     Name      Lat       Lon  Sta  \\\n",
      "0   63004                            BATHURST GAOL -33.4167  149.5500  Jan   \n",
      "1   74128  DENILIQUIN (VISITOR INFORMATION CENTRE) -35.5283  144.9651  Feb   \n",
      "2   66062                SYDNEY (OBSERVATORY HILL) -33.8607  151.2050  Jan   \n",
      "3   48013                       BOURKE POST OFFICE -30.0917  145.9358  Apr   \n",
      "4   72151                  WAGGA WAGGA (KOORINGAL) -35.1333  147.3667  May   \n",
      "5   65016                     FORBES (CAMP STREET) -33.3892  148.0081  Apr   \n",
      "6   56017                      INVERELL COMPARISON -29.7783  151.1114  Feb   \n",
      "7   55023                            GUNNEDAH POOL -30.9841  150.2540  Dec   \n",
      "8   52026                    WALGETT COUNCIL DEPOT -30.0236  148.1218  Aug   \n",
      "9   48030                        COBAR POST OFFICE -31.5000  145.8000  Feb   \n",
      "10  46043                      WILCANNIA (REID ST) -31.5631  143.3747  Apr   \n",
      "\n",
      "      rt  End  Unnamed: 7  Years    % AWS  \n",
      "0   1858  May        1983  118.1   89   N  \n",
      "1   1858  Jun        2003  141.1   93   N  \n",
      "2   1859  Aug        2020  161.7  100   Y  \n",
      "3   1871  Aug        1996  123.6   97   N  \n",
      "4   1871  Dec        1950   78.4   93   N  \n",
      "5   1873  May        1998  124.3   98   N  \n",
      "6   1874  Nov        1997  122.4   98   N  \n",
      "7   1876  Dec        2011  128.4   87   N  \n",
      "8   1878  Jun        1993  113.8   98   N  \n",
      "9   1881  Dec        1965   79.4   93   N  \n",
      "10  1881  Jan        2015  129.1   94   N  \n"
     ]
    }
   ],
   "source": [
    "# Read the second sheet from the Excel file\n",
    "fourth_sheet_df = pd.read_excel(excel_file_path, sheet_name='Minimum Temperature')\n",
    "\n",
    "# Display the contents of the second sheet\n",
    "print(fourth_sheet_df)"
   ]
  },
  {
   "cell_type": "code",
   "execution_count": 35,
   "id": "514d4245",
   "metadata": {},
   "outputs": [
    {
     "name": "stdout",
     "output_type": "stream",
     "text": [
      "     Site                                     Name      Lat       Lon  Sta  \\\n",
      "0   63004                            BATHURST GAOL -33.4167  149.5500  Jan   \n",
      "1   74128  DENILIQUIN (VISITOR INFORMATION CENTRE) -35.5283  144.9651  Feb   \n",
      "3   48013                       BOURKE POST OFFICE -30.0917  145.9358  Apr   \n",
      "4   72151                  WAGGA WAGGA (KOORINGAL) -35.1333  147.3667  May   \n",
      "5   65016                     FORBES (CAMP STREET) -33.3892  148.0081  Apr   \n",
      "8   52026                    WALGETT COUNCIL DEPOT -30.0236  148.1218  Aug   \n",
      "9   48030                        COBAR POST OFFICE -31.5000  145.8000  Feb   \n",
      "10  46043                      WILCANNIA (REID ST) -31.5631  143.3747  Apr   \n",
      "\n",
      "      rt  End  Unnamed: 7  Years   % AWS  \n",
      "0   1858  May        1983  118.1  89   N  \n",
      "1   1858  Jun        2003  141.1  93   N  \n",
      "3   1871  Aug        1996  123.6  97   N  \n",
      "4   1871  Dec        1950   78.4  93   N  \n",
      "5   1873  May        1998  124.3  98   N  \n",
      "8   1878  Jun        1993  113.8  98   N  \n",
      "9   1881  Dec        1965   79.4  93   N  \n",
      "10  1881  Jan        2015  129.1  94   N  \n"
     ]
    }
   ],
   "source": [
    "# Define the longitude range of the Great Dividing Range (GDR)\n",
    "gdr_longitude_range = (146.85, 149.9833)  # From 146° 51' E to 149° 59' E\n",
    "\n",
    "# Filter the DataFrame to include only the stations within or west of the GDR\n",
    "stations_in_or_west_of_gdr = fourth_sheet_df[fourth_sheet_df['Lon'].astype(float) <= gdr_longitude_range[1]]\n",
    "\n",
    "# Display the list of stations within or west of the GDR\n",
    "print(stations_in_or_west_of_gdr)\n"
   ]
  },
  {
   "cell_type": "code",
   "execution_count": 43,
   "id": "f5c06996",
   "metadata": {},
   "outputs": [],
   "source": [
    "import pandas as pd\n",
    "\n",
    "\n",
    "\n",
    "# Merge the DataFrames on the common columns (e.g., 'Station ID', 'Name')\n",
    "merged_df = pd.merge(rainfall_df, max_temp_df, on=['Site', 'Name'], how='inner')\n",
    "merged_df = pd.merge(merged_df, min_temp_df, on=['Site', 'Name'], how='inner')\n",
    "\n",
    "\n",
    "\n",
    "# Define the file path for the Excel file\n",
    "output_excel_file_path = r'C:\\Users\\manda\\Documents\\Master thesis Data\\NSW-Station-list.xlsx'\n",
    "# Specify the directory containing your Excel file\n",
    "directory = r'C:\\Users\\manda\\Documents\\Master thesis Data\\NSW-Station-list'\n",
    "\n",
    "\n",
    "# Define the name of the new sheet\n",
    "new_sheet_name = 'Stations_1800_to_1900'\n",
    "\n",
    "# Save the merged DataFrame to a new sheet in the Excel file\n",
    "merged_df.to_excel(output_excel_file_path, sheet_name=new_sheet_name, index=False)\n"
   ]
  },
  {
   "cell_type": "code",
   "execution_count": null,
   "id": "d0af6ed7",
   "metadata": {},
   "outputs": [],
   "source": []
  },
  {
   "cell_type": "code",
   "execution_count": 44,
   "id": "7d19042c",
   "metadata": {},
   "outputs": [
    {
     "name": "stdout",
     "output_type": "stream",
     "text": [
      "    Site                                     Name    Lat_x     Lon_x Sta_x  \\\n",
      "0  63004                            BATHURST GAOL -33.4167  149.5500   Feb   \n",
      "1  74128  DENILIQUIN (VISITOR INFORMATION CENTRE) -35.5283  144.9651   Feb   \n",
      "2  48013                       BOURKE POST OFFICE -30.0917  145.9358   Apr   \n",
      "3  72151                  WAGGA WAGGA (KOORINGAL) -35.1333  147.3667   May   \n",
      "4  65016                     FORBES (CAMP STREET) -33.3892  148.0081   Jul   \n",
      "5  52026                    WALGETT COUNCIL DEPOT -30.0236  148.1218   Aug   \n",
      "6  46043                      WILCANNIA (REID ST) -31.5631  143.3747   Jan   \n",
      "7  48030                        COBAR POST OFFICE -31.5000  145.8000   Feb   \n",
      "\n",
      "   rt_x End_x  Unnamed: 7_x  Years_x  %_x  ... AWS_y      Lat       Lon  Sta  \\\n",
      "0  1858   May          1983    121.4   97  ...     N -33.4167  149.5500  Jan   \n",
      "1  1858   Dec          2023    161.2   97  ...     N -35.5283  144.9651  Feb   \n",
      "2  1871   Aug          1996    124.1   99  ...     N -30.0917  145.9358  Apr   \n",
      "3  1871   Jun          1985     99.5   87  ...     N -35.1333  147.3667  May   \n",
      "4  1875   Jul          1998    122.8   99  ...     N -33.3892  148.0081  Apr   \n",
      "5  1878   Jan          2024    129.6   88  ...     N -30.0236  148.1218  Aug   \n",
      "6  1879   Feb          2024    143.3   99  ...     N -31.5631  143.3747  Apr   \n",
      "7  1881   Dec          1965     84.5   99  ...     N -31.5000  145.8000  Feb   \n",
      "\n",
      "     rt  End  Unnamed: 7  Years   % AWS  \n",
      "0  1858  May        1983  118.1  89   N  \n",
      "1  1858  Jun        2003  141.1  93   N  \n",
      "2  1871  Aug        1996  123.6  97   N  \n",
      "3  1871  Dec        1950   78.4  93   N  \n",
      "4  1873  May        1998  124.3  98   N  \n",
      "5  1878  Jun        1993  113.8  98   N  \n",
      "6  1881  Jan        2015  129.1  94   N  \n",
      "7  1881  Dec        1965   79.4  93   N  \n",
      "\n",
      "[8 rows x 29 columns]\n"
     ]
    }
   ],
   "source": [
    "print(merged_df)"
   ]
  },
  {
   "cell_type": "code",
   "execution_count": null,
   "id": "39a7ad6d",
   "metadata": {},
   "outputs": [],
   "source": []
  }
 ],
 "metadata": {
  "kernelspec": {
   "display_name": "Python 3 (ipykernel)",
   "language": "python",
   "name": "python3"
  },
  "language_info": {
   "codemirror_mode": {
    "name": "ipython",
    "version": 3
   },
   "file_extension": ".py",
   "mimetype": "text/x-python",
   "name": "python",
   "nbconvert_exporter": "python",
   "pygments_lexer": "ipython3",
   "version": "3.10.9"
  },
  "widgets": {
   "application/vnd.jupyter.widget-state+json": {
    "state": {},
    "version_major": 2,
    "version_minor": 0
   }
  }
 },
 "nbformat": 4,
 "nbformat_minor": 5
}
